{
 "cells": [
  {
   "cell_type": "code",
   "execution_count": 1,
   "metadata": {},
   "outputs": [],
   "source": [
    "import pandas as pd\n",
    "import numpy as np\n",
    "\n",
    "import folium\n",
    "from folium import GeoJson"
   ]
  },
  {
   "cell_type": "code",
   "execution_count": 507,
   "metadata": {},
   "outputs": [],
   "source": [
    "Fremont_Troll = [47.6512, -122.3477]\n",
    "Breese_Spa = [47.6119, -122.19735]\n",
    "Insect_Feast = [47.70065, -122.34669]\n",
    "Gumwall = [47.6081, -122.3402]\n",
    "Pacific_Science_Center = [47.620098, -122.352913]\n",
    "Space_Needle = [47.619652,-122.348999]\n",
    "The_Sound_Hotel_Seattle_Belltown = [47.6144102,-122.3443035]\n",
    "Hotel_Andra = [47.6133677,-122.3423138]\n",
    "Westin_Seattle = [47.6136913,-122.3403187]"
   ]
  },
  {
   "cell_type": "code",
   "execution_count": 508,
   "metadata": {},
   "outputs": [],
   "source": [
    "centroid = np.mean([Fremont_Troll, Gumwall, Pacific_Science_Center, Space_Needle], axis=0)"
   ]
  },
  {
   "cell_type": "code",
   "execution_count": 647,
   "metadata": {},
   "outputs": [],
   "source": [
    "seattle_map = folium.Map(location=[47.66, -122.275],zoom_start=11.5)\n"
   ]
  },
  {
   "cell_type": "code",
   "execution_count": 648,
   "metadata": {},
   "outputs": [],
   "source": [
    "for x in [Fremont_Troll, Breese_Spa, Insect_Feast, Gumwall, Pacific_Science_Center, Space_Needle]:\n",
    "    folium.Marker(location=x, \n",
    "              icon=folium.Icon(icon=\"glyphicon glyphicon-heart\", color='purple')).add_to(seattle_map)"
   ]
  },
  {
   "cell_type": "code",
   "execution_count": 649,
   "metadata": {
    "scrolled": true
   },
   "outputs": [],
   "source": [
    "for x in [The_Sound_Hotel_Seattle_Belltown, Hotel_Andra, Westin_Seattle]:\n",
    "    folium.Marker(location=x).add_to(seattle_map)"
   ]
  },
  {
   "cell_type": "code",
   "execution_count": 650,
   "metadata": {},
   "outputs": [
    {
     "data": {
      "text/plain": [
       "<folium.vector_layers.Circle at 0x10b4055f8>"
      ]
     },
     "execution_count": 650,
     "metadata": {},
     "output_type": "execute_result"
    }
   ],
   "source": [
    "folium.Circle(centroid, radius=1500, color='crimson', fill=False,).add_to(seattle_map)"
   ]
  },
  {
   "cell_type": "code",
   "execution_count": 651,
   "metadata": {
    "scrolled": false
   },
   "outputs": [
    {
     "data": {
      "text/html": [
       "<div style=\"width:100%;\"><div style=\"position:relative;width:100%;height:0;padding-bottom:60%;\"><iframe src=\"data:text/html;charset=utf-8;base64,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\" style=\"position:absolute;width:100%;height:100%;left:0;top:0;border:none !important;\" allowfullscreen webkitallowfullscreen mozallowfullscreen></iframe></div></div>"
      ],
      "text/plain": [
       "<folium.folium.Map at 0x10b405898>"
      ]
     },
     "metadata": {},
     "output_type": "display_data"
    }
   ],
   "source": [
    "display(seattle_map)"
   ]
  },
  {
   "cell_type": "code",
   "execution_count": 652,
   "metadata": {},
   "outputs": [],
   "source": [
    "\n",
    "seattle_map.save('seattle_map.html')"
   ]
  },
  {
   "cell_type": "code",
   "execution_count": 663,
   "metadata": {},
   "outputs": [],
   "source": [
    "import os\n",
    "import time\n",
    "from selenium import webdriver\n",
    " \n",
    "delay=5\n",
    " \n",
    "#Save the map as an HTML file\n",
    "fn='seattle_map.html'\n",
    "tmpurl='file:///Users/analyticallycorrect/seattle_map.html'.format(path=os.getcwd(),mapfile=fn)\n",
    "seattle_map.save(fn)\n",
    " \n",
    "#Open a browser window...\n",
    "browser = webdriver.Firefox()\n",
    "#..that displays the map...\n",
    "browser.get(tmpurl)\n",
    "#Give the map tiles some time to load\n",
    "time.sleep(delay)\n",
    "#Grab the screenshot\n",
    "browser.save_screenshot('seattle_map.png')\n",
    "#Close the browser\n",
    "browser.quit()\n"
   ]
  },
  {
   "cell_type": "code",
   "execution_count": null,
   "metadata": {},
   "outputs": [],
   "source": []
  }
 ],
 "metadata": {
  "kernelspec": {
   "display_name": "Python 3",
   "language": "python",
   "name": "python3"
  },
  "language_info": {
   "codemirror_mode": {
    "name": "ipython",
    "version": 3
   },
   "file_extension": ".py",
   "mimetype": "text/x-python",
   "name": "python",
   "nbconvert_exporter": "python",
   "pygments_lexer": "ipython3",
   "version": "3.6.5"
  }
 },
 "nbformat": 4,
 "nbformat_minor": 2
}
